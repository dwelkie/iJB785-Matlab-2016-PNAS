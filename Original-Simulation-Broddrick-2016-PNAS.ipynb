{
 "cells": [
  {
   "cell_type": "code",
   "execution_count": 1,
   "metadata": {},
   "outputs": [
    {
     "name": "stdout",
     "output_type": "stream",
     "text": [
      "\n",
      "\n",
      "      _____   _____   _____   _____     _____     |\n",
      "     /  ___| /  _  \\ |  _  \\ |  _  \\   / ___ \\    |   COnstraint-Based Reconstruction and Analysis\n",
      "     | |     | | | | | |_| | | |_| |  | |___| |   |   The COBRA Toolbox - 2017\n",
      "     | |     | | | | |  _  { |  _  /  |  ___  |   |\n",
      "     | |___  | |_| | | |_| | | | \\ \\  | |   | |   |   Documentation:\n",
      "     \\_____| \\_____/ |_____/ |_|  \\_\\ |_|   |_|   |   http://opencobra.github.io/cobratoolbox\n",
      "                                                  | \n",
      "\n",
      " > Checking if git is installed ...  Done.\n",
      " > Checking if the repository is tracked using git ...  Done.\n",
      " > Checking if curl is installed ...  Done.\n",
      " > Checking if remote can be reached ...  Done.\n",
      " > Initializing and updating submodules ... Done.\n",
      " > Define CB map output... set to svg.\n",
      " > Retrieving models ...   Done.\n",
      " > TranslateSBML is installed and working properly.\n",
      " > Configuring solver environment variables ...\n",
      "   - ILOG_CPLEX_PATH:  --> set this path manually after installing the solver\n",
      "   - GUROBI_PATH:  --> set this path manually after installing the solver\n",
      "   - TOMLAB_PATH:  --> set this path manually after installing the solver\n",
      "   - MOSEK_PATH:  --> set this path manually after installing the solver\n",
      "   Done.\n",
      " > Checking available solvers and solver interfaces ... Done.\n",
      " > Saving the MATLAB path ... Done.\n",
      "   - The MATLAB path was saved in the default location. > Setting default solvers ... Done.\n",
      "\n",
      " > Summary of available solvers and solver interfaces\n",
      "\n",
      "                      Support       LP    MILP    QP    MIQP    NLP\n",
      "                    ____________    __    ____    __    ____    ___\n",
      "\n",
      "    cplex_direct    full            0     0       0     0       -  \n",
      "    dqqMinos        full            0     -       -     -       -  \n",
      "    glpk            full            1     1       -     -       -  \n",
      "    gurobi          full            0     0       0     0       -  \n",
      "    ibm_cplex       full            0     0       0     0       -  \n",
      "    matlab          full            1     -       -     -       1  \n",
      "    mosek           full            0     0       0     -       -  \n",
      "    pdco            full            1     -       1     -       1  \n",
      "    quadMinos       full            0     -       -     -       0  \n",
      "    tomlab_cplex    full            0     0       0     0       -  \n",
      "    opti            experimental    0     0       0     0       0  \n",
      "    qpng            experimental    -     -       1     -       -  \n",
      "    tomlab_snopt    experimental    -     -       -     -       0  \n",
      "    gurobi_mex      legacy          0     0       0     0       -  \n",
      "    lindo_old       legacy          0     -       -     -       -  \n",
      "    lindo_legacy    legacy          0     -       -     -       -  \n",
      "    lp_solve        legacy          1     -       -     -       -  \n",
      "    ----------      ----------                                     \n",
      "    Total           -               4     1       2     0       2  \n",
      "\n",
      " + Legend: - = not applicable, 0 = solver not compatible or not installed, 1 = solver installed.\n",
      "\n",
      " > You can solve LP problems using: 'glpk' - 'matlab' - 'pdco' - 'lp_solve' \n",
      " > You can solve MILP problems using: 'glpk' \n",
      " > You can solve QP problems using: 'pdco' - 'qpng' \n",
      " > You cannot solve MIQP problems. Consider installing an MIQP solver.\n",
      " > You can solve NLP problems using: 'matlab' - 'pdco' \n",
      "\n"
     ]
    },
    {
     "name": "stderr",
     "output_type": "stream",
     "text": [
      "\u001b[0;31mUndefined function or variable 'status_gitCountMaster'.\n",
      "\n",
      "Error in updateCobraToolbox (line 38)\n",
      "            status_gitCountMaster == 0;\n",
      "\n",
      "Error in initCobraToolbox (line 451)\n",
      "        updateCobraToolbox(true); % only check\n",
      "\n",
      "\u001b[0m"
     ]
    }
   ],
   "source": [
    "initCobraToolbox\n",
    "\n",
    "% load model\n",
    "load('Model_iJB785.mat');\n",
    "\n",
    "model = iJB785; \n",
    "\n"
   ]
  },
  {
   "cell_type": "code",
   "execution_count": 3,
   "metadata": {},
   "outputs": [
    {
     "name": "stdout",
     "output_type": "stream",
     "text": [
      "\n",
      "model = \n",
      "\n",
      "           mets: {768x1 cell}\n",
      "       metNames: {768x1 cell}\n",
      "    metFormulas: {768x1 cell}\n",
      "          genes: {785x1 cell}\n",
      "        grRules: {850x1 cell}\n",
      "           rxns: {850x1 cell}\n",
      "       rxnNames: {850x1 cell}\n",
      "     subSystems: {850x1 cell}\n",
      "         csense: 'EEEEEEEEEEEEEEEEEEEEEEEEEEEEEEEEEEEEEEEEEEEEEEEEEEEEEEEE...'\n",
      "              S: [768x850 double]\n",
      "             lb: [850x1 double]\n",
      "             ub: [850x1 double]\n",
      "              b: [768x1 double]\n",
      "              c: [850x1 double]\n",
      "            rev: [850x1 int32]\n",
      "    description: 'iJB785'\n",
      "\n"
     ]
    }
   ],
   "source": [
    "model"
   ]
  },
  {
   "cell_type": "code",
   "execution_count": 4,
   "metadata": {},
   "outputs": [
    {
     "name": "stdout",
     "output_type": "stream",
     "text": [
      "DM_pkcc\tpkcc \t->\t\n"
     ]
    }
   ],
   "source": [
    "%% Model preparation\n",
    "\n",
    "% Suggested non-network constraints from supplemental material\n",
    "C1_non_network_constraints"
   ]
  },
  {
   "cell_type": "code",
   "execution_count": 5,
   "metadata": {},
   "outputs": [
    {
     "name": "stdout",
     "output_type": "stream",
     "text": [
      "Optical absorption cross section\n",
      "     nm         a*\n",
      "  410.0000  460.7000\n",
      "  430.0000  598.9000\n",
      "  450.0000  565.5000\n",
      "  470.0000  415.2000\n",
      "  490.0000  352.9000\n",
      "  510.0000  277.7000\n",
      "  530.0000  157.3000\n",
      "  550.0000  124.3000\n",
      "  570.0000  146.8000\n",
      "  590.0000  193.2000\n",
      "  610.0000  263.7000\n",
      "  630.0000  335.8000\n",
      "  650.0000  269.0000\n",
      "  670.0000  303.6000\n",
      "  690.0000  267.7000\n",
      "\n",
      "Irradiance:68\n"
     ]
    }
   ],
   "source": [
    "% Set media\n",
    "% BG-11 at 100mL total volume\n",
    "C2_media_BG11\n",
    "% Set photon uptake constraints\n",
    "C3_photon_constraints\n",
    "%% Additional initializing values\n",
    "% 2% of the culture volume in each ring\n",
    "vol = [2,2,2,2,2,2,2,2,2,2,2,2,2,2,2,2,2,2,2,2,2,2,2,2,2,2,2,2,2,2,2,2,2,2,2,2,2,2,2,2,2,2,2,2,2,2,2,2,2,2];\n",
    "% initial mgDW of inoculation in a 100mL flask\n",
    "iDW = 7.1; \n",
    "%area used for photon delivery\n",
    "xsec = 54.3;\n",
    "% relative volume\n",
    "rv = vol./100;"
   ]
  },
  {
   "cell_type": "code",
   "execution_count": null,
   "metadata": {},
   "outputs": [],
   "source": [
    "results = []; %initialize the results variable\n",
    "%% Execute the simulation of self-shading\n",
    "S1_self_shading\n",
    "self = results;\n",
    "%% Execute the simulation of no-shading\n",
    "results = [];\n",
    "S2_no_shading"
   ]
  },
  {
   "cell_type": "code",
   "execution_count": null,
   "metadata": {},
   "outputs": [],
   "source": [
    "plot_results"
   ]
  },
  {
   "cell_type": "code",
   "execution_count": null,
   "metadata": {},
   "outputs": [],
   "source": []
  }
 ],
 "metadata": {
  "kernelspec": {
   "display_name": "Matlab",
   "language": "matlab",
   "name": "matlab"
  },
  "language_info": {
   "codemirror_mode": "octave",
   "file_extension": ".m",
   "help_links": [
    {
     "text": "MetaKernel Magics",
     "url": "https://github.com/calysto/metakernel/blob/master/metakernel/magics/README.md"
    }
   ],
   "mimetype": "text/x-octave",
   "name": "matlab",
   "version": "0.15.0"
  }
 },
 "nbformat": 4,
 "nbformat_minor": 2
}

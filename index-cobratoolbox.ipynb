{
 "cells": [
  {
   "cell_type": "markdown",
   "metadata": {},
   "source": [
    "## Table of Contents\n",
    "\n",
    "### [Primer](Primer.ipynb)\n",
    "\n",
    "### [1. COBRAtoolbox: An introduction](COBRAtoolbox-intro.ipynb)\n",
    "- [Help and Documentation in IPython](01.01-Help-And-Documentation.ipynb)\n",
    "\n",
    "### [2. Original Simulation Published in Broddrick et al. PNAS 2016 - iJB785](Original-Simulation-Broddrick-2016-PNAS.ipynb)"
   ]
  },
  {
   "cell_type": "code",
   "execution_count": null,
   "metadata": {},
   "outputs": [],
   "source": []
  }
 ],
 "metadata": {
  "kernelspec": {
   "display_name": "Matlab",
   "language": "matlab",
   "name": "matlab"
  },
  "language_info": {
   "codemirror_mode": "octave",
   "file_extension": ".m",
   "help_links": [
    {
     "text": "MetaKernel Magics",
     "url": "https://github.com/calysto/metakernel/blob/master/metakernel/magics/README.md"
    }
   ],
   "mimetype": "text/x-octave",
   "name": "matlab",
   "version": "0.15.0"
  }
 },
 "nbformat": 4,
 "nbformat_minor": 2
}
